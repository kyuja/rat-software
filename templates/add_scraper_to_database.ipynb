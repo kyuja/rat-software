{
 "cells": [
  {
   "cell_type": "code",
   "execution_count": 1,
   "id": "dd8e751d-f3f1-4c3c-a7bb-87488ce68346",
   "metadata": {},
   "outputs": [],
   "source": [
    "#!pip install psycopg2"
   ]
  },
  {
   "cell_type": "code",
   "execution_count": 2,
   "id": "284d1125",
   "metadata": {},
   "outputs": [],
   "source": [
    "import psycopg2\n",
    "from psycopg2.extras import execute_values"
   ]
  },
  {
   "cell_type": "code",
   "execution_count": 3,
   "id": "2fb897a2",
   "metadata": {},
   "outputs": [
    {
     "data": {
      "text/plain": [
       "'\\ncur = conn.cursor(cursor_factory=psycopg2.extras.DictCursor)\\ncur.execute(\"INSERT INTO classifier (name, display_name) VALUES (%s, %s);\", (name, display_name))\\nconn.commit()\\n'"
      ]
     },
     "execution_count": 3,
     "metadata": {},
     "output_type": "execute_result"
    }
   ],
   "source": [
    "conn = psycopg2.connect(host='your_db_host', user='your_db_name',\n",
    "                              password='your_password', \n",
    "                              dbname='your_db', port=5432)\n",
    "\n",
    "name = \"your classifier name\"\n",
    "display_name = \"your classifier name showed in the flask frontend\"\n",
    "'''\n",
    "- Create a folder named after your classifier in the folder **/classifiers/**.\n",
    "- Add a Python file named after your classifier within this folder to serve as your classifier module.\n",
    "'''\n",
    "#uncomment these lines, if you are ready to add your new scraper to the database\n",
    "\n",
    "'''\n",
    "cur = conn.cursor(cursor_factory=psycopg2.extras.DictCursor)\n",
    "cur.execute(\"INSERT INTO classifier (name, display_name) VALUES (%s, %s);\", (name, display_name))\n",
    "conn.commit()\n",
    "'''\n",
    "\n",
    "conn.close()"
   ]
  },
  {
   "cell_type": "code",
   "execution_count": null,
   "id": "7bcf9a60-2acf-4e0c-9f9c-f3b1249d76f5",
   "metadata": {},
   "outputs": [],
   "source": []
  }
 ],
 "metadata": {
  "kernelspec": {
   "display_name": "Python 3 (ipykernel)",
   "language": "python",
   "name": "python3"
  },
  "language_info": {
   "codemirror_mode": {
    "name": "ipython",
    "version": 3
   },
   "file_extension": ".py",
   "mimetype": "text/x-python",
   "name": "python",
   "nbconvert_exporter": "python",
   "pygments_lexer": "ipython3",
   "version": "3.12.4"
  }
 },
 "nbformat": 4,
 "nbformat_minor": 5
}
