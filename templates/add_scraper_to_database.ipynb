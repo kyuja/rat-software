{
 "cells": [
  {
   "cell_type": "code",
   "execution_count": 1,
   "id": "284d1125",
   "metadata": {},
   "outputs": [],
   "source": [
    "import psycopg2\n",
    "from psycopg2.extras import execute_values"
   ]
  },
  {
   "cell_type": "code",
   "execution_count": 26,
   "id": "2fb897a2",
   "metadata": {},
   "outputs": [
    {
     "name": "stdout",
     "output_type": "stream",
     "text": [
      "Available Countries\n",
      "[(1, 'Germany'), (2, 'USA'), (3, 'Sweden'), (5, 'Mexico'), (6, 'United Kingdom'), (4, 'Ireland')]\n",
      "Available Providers\n",
      "[(1, 'Google'), (2, 'Microsoft'), (3, 'Ecosia'), (4, 'Stabi Hamburg')]\n",
      "Available Resulttypes\n",
      "[(1, 'Organic Results', 'organic'), (2, 'Snippets', 'snippet'), (3, 'Universal Search Results', 'universal'), (4, 'Advertisements', 'ad'), (5, 'News', 'news')]\n"
     ]
    }
   ],
   "source": [
    "conn = psycopg2.connect(host='your_host', user='your_user',\n",
    "                              password='your_password', \n",
    "                              dbname='your_db', port=5432)\n",
    "\n",
    "#select or add a country for your new scraper\n",
    "print(\"Available Countries\")\n",
    "cur = conn.cursor()\n",
    "cur.execute(\"SELECT id, name from country\")\n",
    "conn.commit()\n",
    "country = cur.fetchall()\n",
    "print(country)\n",
    "#add Country to the table, if it is missing: uncomment the following lines and change the language name.\n",
    "\n",
    "'''\n",
    "country_name = \"your_country_name\"\n",
    "country_code = \"your_country_code\"\n",
    "cur = conn.cursor(cursor_factory=psycopg2.extras.DictCursor)\n",
    "cur.execute(\"INSERT INTO country (name, code) VALUES (%s, %s);\", (country_name, country_code))\n",
    "conn.commit()\n",
    "'''\n",
    "\n",
    "#select or add a prodiver for your new scraper\n",
    "print(\"Available Providers\")\n",
    "cur = conn.cursor()\n",
    "cur.execute(\"SELECT id, name from provider\")\n",
    "conn.commit()\n",
    "provider = cur.fetchall()\n",
    "print(provider)\n",
    "#add Provider to the table, if it is missing: uncomment the following lines and change the provider name. Providers are the companies offering the search sytem.\n",
    "\n",
    "'''\n",
    "provider_name = \"your_provider_name\"\n",
    "cur = conn.cursor(cursor_factory=psycopg2.extras.DictCursor)\n",
    "cur.execute(\"INSERT INTO provider (name) VALUES (%s);\", (provider_name,))\n",
    "conn.commit()\n",
    "'''\n",
    "#select a result typer for your new scraper\n",
    "print(\"Available Resulttypes\")\n",
    "cur = conn.cursor()\n",
    "cur.execute(\"SELECT id, name, display from resulttype\")\n",
    "conn.commit()\n",
    "resulttype = cur.fetchall()\n",
    "print(resulttype)\n",
    "#don#t change resulttypes\n",
    "\n",
    "country = \"your country id\"\n",
    "provider = \"your provider id\"\n",
    "resulttype = \"your result type id\"\n",
    "search_engine_scraper_name = \"your search engine scraper name\"\n",
    "module = \"name of your python script for the scraper\" \n",
    "'''\n",
    "every scraper uses a separated script.\n",
    "#the scripts will be stored at backend\\scraper\\scrapers. \n",
    "the name of the script must be equal to the name of the search engine scraper\n",
    "e. g. Google_DE = google_de.py\n",
    "'''\n",
    "#uncomment these lines, if you are ready to add your new scraper to the database\n",
    "\n",
    "'''\n",
    "cur = conn.cursor(cursor_factory=psycopg2.extras.DictCursor)\n",
    "cur.execute(\"INSERT INTO searchengine (name, module, resulttype, country, provider) VALUES (%s, %s, %s ,%s ,%s);\", (search_engine_scraper_name, module, resulttype, country, provider))\n",
    "conn.commit()\n",
    "'''\n",
    "\n",
    "conn.close()"
   ]
  }
 ],
 "metadata": {
  "kernelspec": {
   "display_name": "Python 3 (ipykernel)",
   "language": "python",
   "name": "python3"
  },
  "language_info": {
   "codemirror_mode": {
    "name": "ipython",
    "version": 3
   },
   "file_extension": ".py",
   "mimetype": "text/x-python",
   "name": "python",
   "nbconvert_exporter": "python",
   "pygments_lexer": "ipython3",
   "version": "3.11.5"
  }
 },
 "nbformat": 4,
 "nbformat_minor": 5
}
